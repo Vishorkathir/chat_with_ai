{
  "nbformat": 4,
  "nbformat_minor": 0,
  "metadata": {
    "colab": {
      "provenance": [],
      "authorship_tag": "ABX9TyNIxjQgmgpUWS6ZO1rgL2+w",
      "include_colab_link": true
    },
    "kernelspec": {
      "name": "python3",
      "display_name": "Python 3"
    },
    "language_info": {
      "name": "python"
    }
  },
  "cells": [
    {
      "cell_type": "markdown",
      "metadata": {
        "id": "view-in-github",
        "colab_type": "text"
      },
      "source": [
        "<a href=\"https://colab.research.google.com/github/Vishorkathir/chat_with_ai/blob/main/simple_chatbot.ipynb\" target=\"_parent\"><img src=\"https://colab.research.google.com/assets/colab-badge.svg\" alt=\"Open In Colab\"/></a>"
      ]
    },
    {
      "cell_type": "code",
      "source": [],
      "metadata": {
        "id": "0IkNp4SPNCZE"
      },
      "execution_count": null,
      "outputs": []
    },
    {
      "cell_type": "code",
      "source": [
        "from google.colab import userdata\n",
        "from langchain_google_genai import ChatGoogleGenerativeAI\n",
        "from langchain.agents import initialize_agent, AgentType\n",
        "import google.generativeai as genai\n",
        "\n",
        "GOOGLE_API_KEY=userdata.get('GOOGLE_API_KEY')\n",
        "genai.configure(api_key=GOOGLE_API_KEY)\n",
        "\n",
        "# Define how the virtual owner should respond\n",
        "college_owner_prompt = \"\"\"\n",
        "You are the virtual Chat GPT-4.\n",
        "Answer to client queries simply, clearly, and politely.\n",
        "Always keep answers shortly and informative.\n",
        "\"\"\"\n",
        "\n",
        "# Load Gemini LLM\n",
        "llm = ChatGoogleGenerativeAI(\n",
        "    model=\"gemini-1.5-flash\",  # or \"gemini-1.5-flash\"\n",
        "    temperature=0,\n",
        "    google_api_key=GOOGLE_API_KEY\n",
        ")\n",
        "# Create the agent\n",
        "agent = initialize_agent(\n",
        "    tools=[],  # No external tools needed for simple Q&A\n",
        "    llm=llm,\n",
        "    agent=AgentType.OPENAI_FUNCTIONS,  # Works with Gemini too\n",
        "    verbose=True,\n",
        "    agent_kwargs={\"system_message\": college_owner_prompt}\n",
        ")\n",
        "\n",
        "# Student asks a question\n",
        "question = \"what is meant by dravidan?\"\n",
        "response = agent.invoke({\"input\": question})\n",
        "\n",
        "print(\"🧑‍🏫 Owner says:\", response[\"output\"])"
      ],
      "metadata": {
        "colab": {
          "base_uri": "https://localhost:8080/"
        },
        "id": "Zyf1iPzvNNKl",
        "outputId": "869fe015-90d7-4762-e0ea-9fd5f4dded84"
      },
      "execution_count": null,
      "outputs": [
        {
          "output_type": "stream",
          "name": "stdout",
          "text": [
            "\n",
            "\n",
            "\u001b[1m> Entering new AgentExecutor chain...\u001b[0m\n",
            "\u001b[32;1m\u001b[1;3mDravidian refers to the languages and cultures of South India and parts of Pakistan and Sri Lanka.\u001b[0m\n",
            "\n",
            "\u001b[1m> Finished chain.\u001b[0m\n",
            "🧑‍🏫 Owner says: Dravidian refers to the languages and cultures of South India and parts of Pakistan and Sri Lanka.\n"
          ]
        }
      ]
    },
    {
      "cell_type": "code",
      "source": [],
      "metadata": {
        "id": "ISr497oPTUYF"
      },
      "execution_count": null,
      "outputs": []
    },
    {
      "cell_type": "code",
      "source": [
        "#give  question\n",
        "\n",
        "\n",
        "import os\n",
        "from langchain_google_genai import ChatGoogleGenerativeAI\n",
        "import google.generativeai as genai\n",
        "\n",
        "GOOGLE_API_KEY=userdata.get('GOOGLE_API_KEY')\n",
        "genai.configure(api_key=GOOGLE_API_KEY)\n",
        "\n",
        "# ✅ STEP 2: Predefined Q&A\n",
        "qa_pairs = {\n",
        "    \"When will the semester exam start?\": \"The semester exams will begin from June 15th.\",\n",
        "    \"How can I apply for leave?\": \"Please submit a leave request through the college portal.\",\n",
        "    \"Is the college open on Saturday?\": \"No, the college remains closed on Saturdays.\",\n",
        "    \"What is the dress code?\": \"Students must wear formal dress from Monday to Friday.\",\n",
        "    \"Can I meet the principal?\": \"Yes, you can meet the principal between 2 PM and 4 PM on weekdays.\"\n",
        "}\n",
        "\n",
        "# ✅ STEP 3: Initialize Gemini LLM\n",
        "llm = ChatGoogleGenerativeAI(\n",
        "    model=\"gemini-1.5-flash\",\n",
        "    temperature=0.4,\n",
        "    google_api_key=GOOGLE_API_KEY\n",
        ")\n",
        "\n",
        "# ✅ STEP 4: Start Chat Loop\n",
        "print(\"🎓 Welcome to College Management Chat! (Type 'exit' to stop)\\n\")\n",
        "\n",
        "while True:\n",
        "    student_question = input(\"👨‍🎓 Student: \").strip()\n",
        "    if student_question.lower() in [\"exit\", \"quit\"]:\n",
        "        print(\"🏫 Management: Thank you! Have a nice day.\")\n",
        "        break\n",
        "\n",
        "    # Check for exact match in predefined answers\n",
        "    if student_question in qa_pairs:\n",
        "        print(\"🏫 Management:\", qa_pairs[student_question])\n",
        "    else:\n",
        "        # Use Gemini to respond politely\n",
        "        prompt = (\n",
        "            \"You are a helpful and polite college administrator. \"\n",
        "            \"Answer the student’s question simply and clearly.\\n\\n\"\n",
        "            f\"Student: {student_question}\\n\"\n",
        "            \"Management:\"\n",
        "        )\n",
        "        response = llm.invoke(prompt)\n",
        "        print(\"🏫 Management:\", response)\n"
      ],
      "metadata": {
        "colab": {
          "base_uri": "https://localhost:8080/"
        },
        "id": "ma_36IkbTVCo",
        "outputId": "07b6f9a7-2217-40c4-f9b3-f607515a2069"
      },
      "execution_count": null,
      "outputs": [
        {
          "output_type": "stream",
          "name": "stdout",
          "text": [
            "🎓 Welcome to College Management Chat! (Type 'exit' to stop)\n",
            "\n",
            "👨‍🎓 Student: exit\n",
            "🏫 Management: Thank you! Have a nice day.\n"
          ]
        }
      ]
    }
  ]
}